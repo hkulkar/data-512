{
 "cells": [
  {
   "cell_type": "markdown",
   "metadata": {},
   "source": [
    "# Data 512 : A1 : Data Curation\n",
    "<i>The following text is taken from the assignment:</i>\n",
    "\n",
    "For this assignment, you combine data about Wikipedia page traffic from two different Wikimedia REST API (Links to an external site.) endpoints into a single dataset, perform some simple data processing steps on the data, and then analyze that data.\n",
    "\n",
    "The goal of this assignment is to construct, analyze, and publish a dataset of monthly traffic on English Wikipedia from January 1 2008 through August 30 2020. All analysis should be performed in a single Jupyter notebook and all data, documentation, and code should be published in a single GitHub repository.\n",
    "\n",
    "The purpose of the assignment is to start to familiarize you with the Jupyter Notebook environment and with some best practices for open scientific research in designing and implementing your project, and make your project fully reproducible by others: from data collection to data analysis."
   ]
  },
  {
   "cell_type": "markdown",
   "metadata": {},
   "source": [
    "# Step 1: Gathbering the data\n",
    "This section of the notebook focuses on gathering the data from the APIs of interest.\n",
    "\n",
    "First we define the set of constants we need."
   ]
  },
  {
   "cell_type": "code",
   "execution_count": 1,
   "metadata": {},
   "outputs": [],
   "source": [
    "import json\n",
    "import requests\n",
    "\n",
    "# path to output the json results to \n",
    "output_path = \".\"\n",
    "\n",
    "# Wikipedia endpoints for API request data in aggregate\n",
    "endpoint_legacy = 'https://wikimedia.org/api/rest_v1/metrics/legacy/pagecounts/aggregate/{project}/{access-site}/{granularity}/{start}/{end}'\n",
    "endpoint_pageviews = 'https://wikimedia.org/api/rest_v1/metrics/pageviews/aggregate/{project}/{access}/{agent}/{granularity}/{start}/{end}'\n",
    "\n",
    "# start and end times for the data to collect\n",
    "start_time = \"2008010100\"\n",
    "end_time = \"2020080100\"\n",
    "\n",
    "# project name that we care about -- english Wikipedia\n",
    "project = \"en.wikipedia.org\"\n",
    "\n",
    "# The access types for pageviews api\n",
    "access_types_for_page_views = [\n",
    "    \"all-access\",\n",
    "    \"desktop\",\n",
    "    \"mobile-app\",\n",
    "    \"mobile-web\"\n",
    "]\n",
    "\n",
    "# The access types for pagecounts api\n",
    "access_types_for_page_counts = [\n",
    "    \"all-sites\",\n",
    "    \"desktop-site\",\n",
    "    \"mobile-site\"\n",
    "]\n",
    "\n",
    "# The headers to use for user-agent for the API requests\n",
    "headers = {\n",
    "    'User-Agent': 'https://github.com/hkulkar',\n",
    "    'From': 'hkulkar@uw.edu'\n",
    "}\n",
    "\n",
    "apis = [\"pagecounts\", \"pageviews\"]"
   ]
  },
  {
   "cell_type": "markdown",
   "metadata": {},
   "source": [
    "Next, we define the set of functions which will get data from the APIs and store them in files which follow the naming convention :\n",
    "\n",
    "   apiname_accesstype_firstmonth-lastmonth.json"
   ]
  },
  {
   "cell_type": "code",
   "execution_count": 2,
   "metadata": {},
   "outputs": [],
   "source": [
    "import json\n",
    "\n",
    "def get_pagecounts_params(access_type):\n",
    "        return  {\"project\" : project,\n",
    "                     \"access-site\" : access_type,\n",
    "                     \"granularity\" : \"monthly\",\n",
    "                     \"start\" : start_time,\n",
    "                    # for end use 1st day of month following final month of data\n",
    "                     \"end\" : end_time\n",
    "                    }\n",
    "\n",
    "def get_pageviews_params(access_type):\n",
    "    return {\"project\" : project,\n",
    "                \"access\" : access_type,\n",
    "                \"agent\" : \"user\",\n",
    "                \"granularity\" : \"monthly\",\n",
    "                \"start\" : start_time,\n",
    "                # for end use 1st day of month following final month of data\n",
    "                \"end\" : end_time\n",
    "                    }\n",
    "\n",
    "def api_call(endpoint,parameters):\n",
    "    '''\n",
    "        Sends an API request to the 'endpoint' with the given 'parameters'\n",
    "        :param endpoint: the endpoint to send the api request to\n",
    "        :param parameters: the json parameters to send an api request to\n",
    "        :returns: the JSON response object from the API.\n",
    "    '''\n",
    "    call = requests.get(endpoint.format(**parameters), headers=headers)\n",
    "    response = call.json()\n",
    "    \n",
    "    return response\n",
    "\n",
    "def write_str_to_file(file_path, s):\n",
    "    '''\n",
    "        Writes the string 's' to the file specified by file_path\n",
    "        :param file_path: the file path to write to.\n",
    "        :param s: the string to write to the file.\n",
    "    '''\n",
    "    f = open(file_path, 'wt', encoding='utf-8')\n",
    "    f.write(s)\n",
    "    f.close()\n",
    "\n",
    "def write_api_result_to_files(api_to_request):\n",
    "    '''\n",
    "        Runs the speciifed api according to 'api_request' and gets the required types of data from it. Then stores the files in\n",
    "        the '../data' folder with the file name {api_to_request}_{accesstype}_{firstmonth}-{lastmonth}.json\n",
    "        :param api_to_request: either 'pagecounts' or 'pageviews' otherwise throws ValueError\n",
    "    '''\n",
    "    access_types = None\n",
    "    get_params = None\n",
    "    endpoint = None\n",
    "    \n",
    "    if api_to_request == \"pagecounts\":\n",
    "        access_types = access_types_for_page_counts\n",
    "        get_params = get_pagecounts_params\n",
    "        endpoint = endpoint_legacy\n",
    "    elif api_to_request == \"pageviews\":\n",
    "        access_types = access_types_for_page_views\n",
    "        get_params = get_pageviews_params\n",
    "        endpoint = endpoint_pageviews\n",
    "    else:\n",
    "        raise ValueError(\"You provided api_to_request={api_to_request}. But only 'pageviews' and 'pagecounts' are allowed.\")\n",
    "    \n",
    "    for access_type in access_types:\n",
    "        params = get_params(access_type)\n",
    "        response = api_call(endpoint, params)\n",
    "        file_name = f\"{api_to_request}_{access_type}_{params['start'][:6]}-{params['end'][:6]}.json\"\n",
    "        f = open(f\"{output_path}/{file_name}\", \"wt\", encoding=\"utf-8\")\n",
    "        f.write(json.dumps(response))\n",
    "        f.close()"
   ]
  },
  {
   "cell_type": "markdown",
   "metadata": {},
   "source": [
    "Now for each API we write the data to files."
   ]
  },
  {
   "cell_type": "code",
   "execution_count": 3,
   "metadata": {},
   "outputs": [],
   "source": [
    "for api in apis:\n",
    "    write_api_result_to_files(api)"
   ]
  },
  {
   "cell_type": "markdown",
   "metadata": {},
   "source": [
    "# Step 2: Processing the data\n",
    "Now we perform a series of processing steps o the data to prepare it for analysis.\n",
    "\n",
    "First load the data from the json files"
   ]
  },
  {
   "cell_type": "code",
   "execution_count": 4,
   "metadata": {},
   "outputs": [
    {
     "data": {
      "text/plain": [
       "{'pagecounts': ['.\\\\pagecounts_all-sites_200801-202008.json',\n",
       "  '.\\\\pagecounts_desktop-site_200801-202008.json',\n",
       "  '.\\\\pagecounts_mobile-site_200801-202008.json'],\n",
       " 'pageviews': ['.\\\\pageviews_all-access_200801-202008.json',\n",
       "  '.\\\\pageviews_desktop_200801-202008.json',\n",
       "  '.\\\\pageviews_mobile-app_200801-202008.json',\n",
       "  '.\\\\pageviews_mobile-web_200801-202008.json']}"
      ]
     },
     "execution_count": 4,
     "metadata": {},
     "output_type": "execute_result"
    }
   ],
   "source": [
    "import json\n",
    "import os\n",
    "\n",
    "from os import listdir\n",
    "from os.path import isfile, join\n",
    "onlyfiles = [join(output_path, f) for f in listdir(output_path) if isfile(join(output_path, f))]\n",
    "apis_to_files = {k:[f for f in onlyfiles if k in f] for k in apis}\n",
    "apis_to_files    "
   ]
  },
  {
   "cell_type": "code",
   "execution_count": 5,
   "metadata": {},
   "outputs": [],
   "source": [
    "apis_to_dfs = {k:None for k in apis}\n",
    "\n",
    "import pandas as pd\n",
    "for api,files in apis_to_files.items():\n",
    "    for f in files:\n",
    "        current_df = apis_to_dfs[api]\n",
    "        \n",
    "        f_as_json = None\n",
    "        with open(f) as f:\n",
    "            f_as_json = json.loads(f.read())['items']\n",
    "        if current_df is None:\n",
    "            current_df = pd.DataFrame(f_as_json)\n",
    "        else:\n",
    "            current_df = pd.concat((current_df, pd.DataFrame(f_as_json)))\n",
    "        apis_to_dfs[api] = current_df\n"
   ]
  },
  {
   "cell_type": "markdown",
   "metadata": {},
   "source": [
    "For Pageviews API combine the monhtly values for mobile-app and mobile web to create total mobile traffic count for each month"
   ]
  },
  {
   "cell_type": "code",
   "execution_count": 6,
   "metadata": {},
   "outputs": [
    {
     "data": {
      "text/plain": [
       "array(['all-access', 'desktop', 'mobile'], dtype=object)"
      ]
     },
     "execution_count": 6,
     "metadata": {},
     "output_type": "execute_result"
    }
   ],
   "source": [
    "df = apis_to_dfs[\"pageviews\"]\n",
    "df.loc[df[\"access\"].str.startswith(\"mobile\"), \"access\"] = \"mobile\" \n",
    "df[\"access\"].unique()"
   ]
  },
  {
   "cell_type": "markdown",
   "metadata": {},
   "source": [
    "Drop columns from Pageview dataframe which aren't required."
   ]
  },
  {
   "cell_type": "code",
   "execution_count": 7,
   "metadata": {},
   "outputs": [
    {
     "data": {
      "text/plain": [
       "Index(['project', 'access', 'agent', 'granularity', 'timestamp', 'views'], dtype='object')"
      ]
     },
     "execution_count": 7,
     "metadata": {},
     "output_type": "execute_result"
    }
   ],
   "source": [
    "df.columns"
   ]
  },
  {
   "cell_type": "code",
   "execution_count": 8,
   "metadata": {},
   "outputs": [],
   "source": [
    "df= df.drop(columns=[\"granularity\", \"agent\", \"project\"])\n",
    "df[\"api_name\"] = \"pageview\"\n",
    "apis_to_dfs[\"pageviews\"] = df"
   ]
  },
  {
   "cell_type": "code",
   "execution_count": 9,
   "metadata": {},
   "outputs": [
    {
     "data": {
      "text/plain": [
       "Index(['access', 'timestamp', 'views', 'api_name'], dtype='object')"
      ]
     },
     "execution_count": 9,
     "metadata": {},
     "output_type": "execute_result"
    }
   ],
   "source": [
    "apis_to_dfs[\"pageviews\"].columns"
   ]
  },
  {
   "cell_type": "markdown",
   "metadata": {},
   "source": [
    "Standardize the pagecounts data to have the same column names"
   ]
  },
  {
   "cell_type": "code",
   "execution_count": 10,
   "metadata": {},
   "outputs": [
    {
     "data": {
      "text/plain": [
       "Index(['project', 'access-site', 'granularity', 'timestamp', 'count'], dtype='object')"
      ]
     },
     "execution_count": 10,
     "metadata": {},
     "output_type": "execute_result"
    }
   ],
   "source": [
    "df = apis_to_dfs[\"pagecounts\"]\n",
    "df.columns"
   ]
  },
  {
   "cell_type": "code",
   "execution_count": 11,
   "metadata": {},
   "outputs": [],
   "source": [
    "df = df.rename(columns={\"access-site\":\"access\", \"count\":\"views\"}).drop(columns=[\"granularity\", \"project\"])"
   ]
  },
  {
   "cell_type": "code",
   "execution_count": 12,
   "metadata": {},
   "outputs": [],
   "source": [
    "df[\"api_name\"] = \"pagecount\""
   ]
  },
  {
   "cell_type": "code",
   "execution_count": 13,
   "metadata": {},
   "outputs": [
    {
     "data": {
      "text/plain": [
       "Index(['access', 'timestamp', 'views', 'api_name'], dtype='object')"
      ]
     },
     "execution_count": 13,
     "metadata": {},
     "output_type": "execute_result"
    }
   ],
   "source": [
    "df.columns"
   ]
  },
  {
   "cell_type": "markdown",
   "metadata": {},
   "source": [
    "Concatenate the datasets together"
   ]
  },
  {
   "cell_type": "code",
   "execution_count": 14,
   "metadata": {},
   "outputs": [],
   "source": [
    "df = pd.concat((apis_to_dfs[\"pageviews\"], df))"
   ]
  },
  {
   "cell_type": "markdown",
   "metadata": {},
   "source": [
    "standardize the access type names"
   ]
  },
  {
   "cell_type": "code",
   "execution_count": 15,
   "metadata": {},
   "outputs": [
    {
     "data": {
      "text/plain": [
       "array(['all', 'desktop', 'mobile'], dtype=object)"
      ]
     },
     "execution_count": 15,
     "metadata": {},
     "output_type": "execute_result"
    }
   ],
   "source": [
    "df.loc[df[\"access\"].str.startswith(\"mobile\"), \"access\"] = \"mobile\" \n",
    "df.loc[df[\"access\"].str.startswith(\"all\"), \"access\"] = \"all\" \n",
    "df.loc[df[\"access\"].str.startswith(\"desktop\"), \"access\"] = \"desktop\" \n",
    "df[\"access\"].unique()"
   ]
  },
  {
   "cell_type": "markdown",
   "metadata": {},
   "source": [
    "Now standardize the access names into their column names in the final schema"
   ]
  },
  {
   "cell_type": "code",
   "execution_count": 16,
   "metadata": {},
   "outputs": [],
   "source": [
    "df[\"access\"] = df[\"api_name\"] + \"_\" + df[\"access\"] + \"_views\""
   ]
  },
  {
   "cell_type": "markdown",
   "metadata": {},
   "source": [
    "Now groupby to remove any duplicates"
   ]
  },
  {
   "cell_type": "code",
   "execution_count": 17,
   "metadata": {},
   "outputs": [
    {
     "data": {
      "text/html": [
       "<div>\n",
       "<style scoped>\n",
       "    .dataframe tbody tr th:only-of-type {\n",
       "        vertical-align: middle;\n",
       "    }\n",
       "\n",
       "    .dataframe tbody tr th {\n",
       "        vertical-align: top;\n",
       "    }\n",
       "\n",
       "    .dataframe thead th {\n",
       "        text-align: right;\n",
       "    }\n",
       "</style>\n",
       "<table border=\"1\" class=\"dataframe\">\n",
       "  <thead>\n",
       "    <tr style=\"text-align: right;\">\n",
       "      <th></th>\n",
       "      <th>timestamp</th>\n",
       "      <th>access</th>\n",
       "      <th>views</th>\n",
       "    </tr>\n",
       "  </thead>\n",
       "  <tbody>\n",
       "    <tr>\n",
       "      <td>0</td>\n",
       "      <td>2008010100</td>\n",
       "      <td>pagecount_all_views</td>\n",
       "      <td>4930902570</td>\n",
       "    </tr>\n",
       "  </tbody>\n",
       "</table>\n",
       "</div>"
      ],
      "text/plain": [
       "    timestamp               access       views\n",
       "0  2008010100  pagecount_all_views  4930902570"
      ]
     },
     "execution_count": 17,
     "metadata": {},
     "output_type": "execute_result"
    }
   ],
   "source": [
    "df = df.groupby([\"timestamp\", \"access\"])[\"views\"].sum().reset_index()\n",
    "df.head(1)"
   ]
  },
  {
   "cell_type": "markdown",
   "metadata": {},
   "source": [
    "Now pivot the dataframe to get the access type views as columns."
   ]
  },
  {
   "cell_type": "code",
   "execution_count": 18,
   "metadata": {},
   "outputs": [],
   "source": [
    "df = df.pivot(index=\"timestamp\", columns=\"access\", values=\"views\").reset_index()"
   ]
  },
  {
   "cell_type": "markdown",
   "metadata": {},
   "source": [
    "For any data fill that value in as 0's"
   ]
  },
  {
   "cell_type": "code",
   "execution_count": 19,
   "metadata": {},
   "outputs": [],
   "source": [
    "df = df.fillna(0)"
   ]
  },
  {
   "cell_type": "markdown",
   "metadata": {},
   "source": [
    "Break apart the year and month, and remove timestamp"
   ]
  },
  {
   "cell_type": "code",
   "execution_count": 20,
   "metadata": {},
   "outputs": [
    {
     "data": {
      "text/html": [
       "<div>\n",
       "<style scoped>\n",
       "    .dataframe tbody tr th:only-of-type {\n",
       "        vertical-align: middle;\n",
       "    }\n",
       "\n",
       "    .dataframe tbody tr th {\n",
       "        vertical-align: top;\n",
       "    }\n",
       "\n",
       "    .dataframe thead th {\n",
       "        text-align: right;\n",
       "    }\n",
       "</style>\n",
       "<table border=\"1\" class=\"dataframe\">\n",
       "  <thead>\n",
       "    <tr style=\"text-align: right;\">\n",
       "      <th>access</th>\n",
       "      <th>timestamp</th>\n",
       "      <th>pagecount_all_views</th>\n",
       "      <th>pagecount_desktop_views</th>\n",
       "      <th>pagecount_mobile_views</th>\n",
       "      <th>pageview_all_views</th>\n",
       "      <th>pageview_desktop_views</th>\n",
       "      <th>pageview_mobile_views</th>\n",
       "      <th>year</th>\n",
       "      <th>month</th>\n",
       "    </tr>\n",
       "  </thead>\n",
       "  <tbody>\n",
       "    <tr>\n",
       "      <td>0</td>\n",
       "      <td>2008010100</td>\n",
       "      <td>4.930903e+09</td>\n",
       "      <td>4.930903e+09</td>\n",
       "      <td>0.0</td>\n",
       "      <td>0.0</td>\n",
       "      <td>0.0</td>\n",
       "      <td>0.0</td>\n",
       "      <td>2008</td>\n",
       "      <td>1</td>\n",
       "    </tr>\n",
       "  </tbody>\n",
       "</table>\n",
       "</div>"
      ],
      "text/plain": [
       "access   timestamp  pagecount_all_views  pagecount_desktop_views  \\\n",
       "0       2008010100         4.930903e+09             4.930903e+09   \n",
       "\n",
       "access  pagecount_mobile_views  pageview_all_views  pageview_desktop_views  \\\n",
       "0                          0.0                 0.0                     0.0   \n",
       "\n",
       "access  pageview_mobile_views  year  month  \n",
       "0                         0.0  2008      1  "
      ]
     },
     "execution_count": 20,
     "metadata": {},
     "output_type": "execute_result"
    }
   ],
   "source": [
    "df['year'] = df['timestamp'].str[:4].apply(int)\n",
    "df['month'] = df['timestamp'].str[4:6].apply(int)\n",
    "df.head(1)"
   ]
  },
  {
   "cell_type": "code",
   "execution_count": 21,
   "metadata": {},
   "outputs": [],
   "source": [
    "df = df.drop(columns='timestamp')"
   ]
  },
  {
   "cell_type": "markdown",
   "metadata": {},
   "source": [
    "Now let's save the data to a csv"
   ]
  },
  {
   "cell_type": "code",
   "execution_count": 22,
   "metadata": {},
   "outputs": [],
   "source": [
    "df.to_csv(f\"{output_path}/en-wikipedia_traffic_200712-202008.csv\", index=False)"
   ]
  },
  {
   "cell_type": "markdown",
   "metadata": {},
   "source": [
    "# Step 3: Analyze the data\n",
    "Here we graph the data similarly to as shown in the homework."
   ]
  },
  {
   "cell_type": "code",
   "execution_count": 25,
   "metadata": {
    "scrolled": true
   },
   "outputs": [
    {
     "data": {
      "image/png": "[encoded data removed]",
      "text/plain": [
       "<Figure size 1440x720 with 1 Axes>"
      ]
     },
     "metadata": {
      "needs_background": "light"
     },
     "output_type": "display_data"
    }
   ],
   "source": [
    "import matplotlib.pyplot as plt\n",
    "import numpy as np\n",
    "from pandas.plotting import register_matplotlib_converters\n",
    "register_matplotlib_converters()\n",
    "\n",
    "df['date'] = df.apply(lambda row: pd.Timestamp(year=int(row['year']), month=int(row['month']), day=1), axis=1)\n",
    "df = df.replace({'0':np.nan, 0:np.nan})\n",
    "scale = 1000000.0\n",
    "plt.figure(figsize=(20,10))\n",
    "for view_col in [c for c in df.columns if c.endswith(\"views\")]:\n",
    "    label = \"total\"\n",
    "    color = \"black\"\n",
    "    df_to_plot = df\n",
    "    if \"desktop\" in view_col:\n",
    "        label = \"main site\"\n",
    "        color = \"green\"\n",
    "    elif \"mobile\" in view_col:\n",
    "        label = \"mobile site\"\n",
    "        color = \"blue\"\n",
    "    linestyle = \"--\"\n",
    "    if view_col.startswith(\"pageview\"):\n",
    "        linestyle = \"-\"\n",
    "        label=None\n",
    "    else:\n",
    "        df_to_plot = df[df[\"date\"] < pd.Timestamp(year=2016, month=8, day=1)] # data ater 2016-08-01 for legacy API is not complete.\n",
    "    plt.plot(df_to_plot['date'], df_to_plot[view_col] / scale, label=label, color=color, linestyle=linestyle)\n",
    "plt.grid(True)\n",
    "plt.ylim(0, 12000)\n",
    "plt.legend(loc='upper left')\n",
    "# add the title to the plot\n",
    "plt.title(\"Page views on English Wikipedia (x 1,000,000)\")\n",
    "plt.xlabel(\"Date (monthly)\")\n",
    "plt.ylabel(\"Page views (1,000,000s)\")\n",
    "# Add caption to clarify data change\n",
    "txt=\"May 2015: a new pageview definition took effect, which eliminated all crawler traffic. Solid lines mark new definition.\"\n",
    "plt.gcf().text(.5, -0.05, txt, ha='center', color=\"red\", fontsize=12)\n",
    "plt.show()\n"
   ]
  }
 ],
 "metadata": {
  "kernelspec": {
   "display_name": "Python 3",
   "language": "python",
   "name": "python3"
  },
  "language_info": {
   "codemirror_mode": {
    "name": "ipython",
    "version": 3
   },
   "file_extension": ".py",
   "mimetype": "text/x-python",
   "name": "python",
   "nbconvert_exporter": "python",
   "pygments_lexer": "ipython3",
   "version": "3.7.4"
  }
 },
 "nbformat": 4,
 "nbformat_minor": 2
}
