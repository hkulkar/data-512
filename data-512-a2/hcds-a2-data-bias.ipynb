{
 "cells": [
  {
   "cell_type": "markdown",
   "metadata": {},
   "source": [
    "# Data 512: A2 : Bias in Data"
   ]
  },
  {
   "cell_type": "markdown",
   "metadata": {},
   "source": [
    "# Part 0 : Initialize variables"
   ]
  },
  {
   "cell_type": "markdown",
   "metadata": {},
   "source": [
    "These variables are settings used in the rest of the notebook."
   ]
  },
  {
   "cell_type": "code",
   "execution_count": 2,
   "metadata": {},
   "outputs": [],
   "source": [
    "# folder containing the relevant data\n",
    "DATA_FOLDER = './data/toxicity'"
   ]
  },
  {
   "cell_type": "markdown",
   "metadata": {},
   "source": [
    "# Step 1\n",
    "\n",
    "Here we opt to \"analyze a single dataset on its own\". More specifically, we'll analyze the toxicity dataset.\n",
    "\n",
    "First let's load the data."
   ]
  },
  {
   "cell_type": "code",
   "execution_count": 3,
   "metadata": {},
   "outputs": [],
   "source": [
    "import pandas as pd\n",
    "import numpy as np\n",
    "\n",
    "#load annotated comments data\n",
    "ac_df = pd.read_csv(f\"{DATA_FOLDER}/toxicity_annotated_comments.tsv\", sep=\"\\t\")\n",
    "\n",
    "#load annotatations data\n",
    "an_df = pd.read_csv(f\"{DATA_FOLDER}/toxicity_annotations.tsv\", sep=\"\\t\")\n",
    "\n",
    "#load worker demographics data\n",
    "workers_df = pd.read_csv(f\"{DATA_FOLDER}/toxicity_worker_demographics.tsv\", sep=\"\\t\")"
   ]
  },
  {
   "cell_type": "markdown",
   "metadata": {},
   "source": [
    "## Analyze the demographic information about the Crowdflower workers that is available in the dataset\n",
    "First let's take a look at the schema of the worker dataset"
   ]
  },
  {
   "cell_type": "code",
   "execution_count": 4,
   "metadata": {},
   "outputs": [
    {
     "data": {
      "text/html": [
       "<div>\n",
       "<style scoped>\n",
       "    .dataframe tbody tr th:only-of-type {\n",
       "        vertical-align: middle;\n",
       "    }\n",
       "\n",
       "    .dataframe tbody tr th {\n",
       "        vertical-align: top;\n",
       "    }\n",
       "\n",
       "    .dataframe thead th {\n",
       "        text-align: right;\n",
       "    }\n",
       "</style>\n",
       "<table border=\"1\" class=\"dataframe\">\n",
       "  <thead>\n",
       "    <tr style=\"text-align: right;\">\n",
       "      <th></th>\n",
       "      <th>worker_id</th>\n",
       "      <th>gender</th>\n",
       "      <th>english_first_language</th>\n",
       "      <th>age_group</th>\n",
       "      <th>education</th>\n",
       "    </tr>\n",
       "  </thead>\n",
       "  <tbody>\n",
       "    <tr>\n",
       "      <td>0</td>\n",
       "      <td>85</td>\n",
       "      <td>female</td>\n",
       "      <td>0</td>\n",
       "      <td>18-30</td>\n",
       "      <td>bachelors</td>\n",
       "    </tr>\n",
       "  </tbody>\n",
       "</table>\n",
       "</div>"
      ],
      "text/plain": [
       "   worker_id  gender  english_first_language age_group  education\n",
       "0         85  female                       0     18-30  bachelors"
      ]
     },
     "execution_count": 4,
     "metadata": {},
     "output_type": "execute_result"
    }
   ],
   "source": [
    "workers_df.head(1)"
   ]
  },
  {
   "cell_type": "markdown",
   "metadata": {},
   "source": [
    "Let's install seaborn for some nicer visualization and plots."
   ]
  },
  {
   "cell_type": "code",
   "execution_count": 5,
   "metadata": {},
   "outputs": [
    {
     "name": "stdout",
     "output_type": "stream",
     "text": [
      "Collecting package metadata (current_repodata.json): ...working... done\n",
      "Solving environment: ...working... done\n",
      "\n",
      "## Package Plan ##\n",
      "\n",
      "  environment location: C:\\ProgramData\\Anaconda3\n",
      "\n",
      "  added / updated specs:\n",
      "    - seaborn\n",
      "\n",
      "\n",
      "The following packages will be downloaded:\n",
      "\n",
      "    package                    |            build\n",
      "    ---------------------------|-----------------\n",
      "    conda-4.9.0                |           py37_0         2.9 MB\n",
      "    ------------------------------------------------------------\n",
      "                                           Total:         2.9 MB\n",
      "\n",
      "The following packages will be UPDATED:\n",
      "\n",
      "  conda                                        4.8.5-py37_0 --> 4.9.0-py37_0\n",
      "\n",
      "\n",
      "\n",
      "Downloading and Extracting Packages\n",
      "\n",
      "conda-4.9.0          | 2.9 MB    |            |   0% \n",
      "conda-4.9.0          | 2.9 MB    | 1          |   2% \n",
      "conda-4.9.0          | 2.9 MB    | #4         |  14% \n",
      "conda-4.9.0          | 2.9 MB    | ###2       |  33% \n",
      "conda-4.9.0          | 2.9 MB    | #####1     |  51% \n",
      "conda-4.9.0          | 2.9 MB    | #######2   |  72% \n",
      "conda-4.9.0          | 2.9 MB    | ########## | 100% \n",
      "conda-4.9.0          | 2.9 MB    | ########## | 100% \n",
      "Preparing transaction: ...working... done\n",
      "Verifying transaction: ...working... done\n",
      "Executing transaction: ...working... done\n"
     ]
    }
   ],
   "source": [
    "import sys\n",
    "!conda install --yes --prefix {sys.prefix} seaborn\n"
   ]
  },
  {
   "cell_type": "markdown",
   "metadata": {},
   "source": [
    "Across different characteristics available to us (e.g., gender, english as a first language, etc.), how are workers distributed?"
   ]
  },
  {
   "cell_type": "code",
   "execution_count": 6,
   "metadata": {},
   "outputs": [
    {
     "data": {
      "image/png": "[encoded data removed]",
      "text/plain": [
       "<Figure size 432x288 with 1 Axes>"
      ]
     },
     "metadata": {
      "needs_background": "light"
     },
     "output_type": "display_data"
    },
    {
     "data": {
      "image/png": "[encoded data removed]",
      "text/plain": [
       "<Figure size 432x288 with 1 Axes>"
      ]
     },
     "metadata": {
      "needs_background": "light"
     },
     "output_type": "display_data"
    },
    {
     "data": {
      "image/png": "[encoded data removed]",
      "text/plain": [
       "<Figure size 432x288 with 1 Axes>"
      ]
     },
     "metadata": {
      "needs_background": "light"
     },
     "output_type": "display_data"
    },
    {
     "data": {
      "image/png": "[encoded data removed]",
      "text/plain": [
       "<Figure size 432x288 with 1 Axes>"
      ]
     },
     "metadata": {
      "needs_background": "light"
     },
     "output_type": "display_data"
    },
    {
     "data": {
      "text/plain": [
       "<Figure size 432x288 with 0 Axes>"
      ]
     },
     "metadata": {},
     "output_type": "display_data"
    }
   ],
   "source": [
    "import seaborn as sns\n",
    "import matplotlib.pyplot as plt\n",
    "from collections import Counter\n",
    "\n",
    "%matplotlib inline\n",
    "\n",
    "for col in [c for c in workers_df.columns if \"worker_id\" != c]:\n",
    "    cnt = workers_df[col].value_counts()\n",
    "    sns.barplot(x=cnt.keys().values, y=cnt.values)\n",
    "    title=f\"Bar chart of {col}\"\n",
    "    plt.title(title)\n",
    "    plt.show()\n",
    "    plt.savefig(f\"pictures/{title}.png\")"
   ]
  },
  {
   "cell_type": "markdown",
   "metadata": {},
   "source": [
    "Some things immediately jump out from these visuals, focusing on the general population as the general U.S. population:\n",
    "<ul>\n",
    "    <li>There are more males in the workers than the general population.</li>\n",
    "    <li>There are less English as first-language speakers than the general population.</li>\n",
    "    <li>There are more 18-30 year olds than the general population.</li>\n",
    "    <li>There are more greater than high-school educated individuals than the general population.</li>\n",
    "    </ul>\n",
    "    \n",
    "As such, due to this difference in demographic distributions, the workers may have a different sense of what messages were toxic or not than the set of individuals who aligned with the general population. "
   ]
  },
  {
   "cell_type": "markdown",
   "metadata": {},
   "source": [
    "## \tExplore relationships between worker demographics and labeling behavior\n",
    "\n",
    "Let's join the worker metadata with the labels, to identify whether workers of different demographics are labelling datasets differently."
   ]
  },
  {
   "cell_type": "code",
   "execution_count": 7,
   "metadata": {},
   "outputs": [],
   "source": [
    "joint_df = workers_df.set_index('worker_id').join(\n",
    "        an_df.set_index('worker_id'),\n",
    "        how='inner'\n",
    "    ).reset_index()"
   ]
  },
  {
   "cell_type": "code",
   "execution_count": 8,
   "metadata": {},
   "outputs": [
    {
     "data": {
      "text/plain": [
       "array([ 0.,  1., -1.,  2., -2.])"
      ]
     },
     "execution_count": 8,
     "metadata": {},
     "output_type": "execute_result"
    }
   ],
   "source": [
    "an_df.toxicity_score.unique()"
   ]
  },
  {
   "cell_type": "markdown",
   "metadata": {},
   "source": [
    "Now let's explore whether there's differences in the percentage of toxic comments identified by different characteristics."
   ]
  },
  {
   "cell_type": "code",
   "execution_count": 9,
   "metadata": {},
   "outputs": [
    {
     "name": "stderr",
     "output_type": "stream",
     "text": [
      "C:\\ProgramData\\Anaconda3\\lib\\site-packages\\ipykernel_launcher.py:2: FutureWarning: using a dict on a Series for aggregation\n",
      "is deprecated and will be removed in a future version. Use                 named aggregation instead.\n",
      "\n",
      "    >>> grouper.agg(name_1=func_1, name_2=func_2)\n",
      "\n",
      "  \n"
     ]
    },
    {
     "data": {
      "image/png": "[encoded data removed]",
      "text/plain": [
       "<Figure size 432x288 with 1 Axes>"
      ]
     },
     "metadata": {
      "needs_background": "light"
     },
     "output_type": "display_data"
    },
    {
     "data": {
      "image/png": "[encoded data removed]",
      "text/plain": [
       "<Figure size 432x288 with 1 Axes>"
      ]
     },
     "metadata": {
      "needs_background": "light"
     },
     "output_type": "display_data"
    },
    {
     "data": {
      "image/png": "[encoded data removed]",
      "text/plain": [
       "<Figure size 432x288 with 1 Axes>"
      ]
     },
     "metadata": {
      "needs_background": "light"
     },
     "output_type": "display_data"
    },
    {
     "data": {
      "image/png": "[encoded data removed]",
      "text/plain": [
       "<Figure size 432x288 with 1 Axes>"
      ]
     },
     "metadata": {
      "needs_background": "light"
     },
     "output_type": "display_data"
    },
    {
     "data": {
      "text/plain": [
       "<Figure size 432x288 with 0 Axes>"
      ]
     },
     "metadata": {},
     "output_type": "display_data"
    }
   ],
   "source": [
    "for col in [c for c in workers_df.columns if \"worker_id\" != c]:\n",
    "    tmp = joint_df.groupby(col)[\"toxicity\"].agg({\"Total\":len, \"Total Toxic\": np.sum}).reset_index()\n",
    "    tmp[\"% Toxic\"] = tmp[\"Total Toxic\"] * 100.0 / tmp[\"Total\"]\n",
    "    sns.barplot(x=tmp[col], y=tmp[\"% Toxic\"])\n",
    "    title=f\"% Toxic by value of {col}\"\n",
    "    plt.title(title)\n",
    "    plt.show()\n",
    "    plt.savefig(f\"picutres/{title}.png\")"
   ]
  },
  {
   "cell_type": "markdown",
   "metadata": {},
   "source": [
    "Atleast at a high-level, we see that there are small differences depending on the worker's charateristics in what percentage of comments were marked as toxic.\n",
    "<ul>\n",
    "    <li>Males identify comments as sexist at a lower rate -- maybe this is tied to potential for things such as sexism in comments.</li>\n",
    "    <li>Different ages have different rates of marking comments as toxic, but younger groups tend to mark fewer comments as toxic -- maybe this is due to something like their familiarity with internet forums or cultural differences between age groups.</li>\n",
    "</ul>"
   ]
  },
  {
   "cell_type": "markdown",
   "metadata": {},
   "source": [
    "# Step 2: Discuss further implications\n",
    "\n",
    "\n",
    "## Which, if any, of these demo applications would you expect the Perspective API—or any model trained on the Wikipedia Talk corpus—to perform well in? Why?\n",
    "\n",
    "\n",
    "I would expect it to perform reasonably on the \"WikiDetox\" demo application since this is the closest application to applying the model to a dataset which appears to be relatively close to the trained dataset. The other applications are pitched as general purpose solutions for other forums, but these may have different grammar and language depending on the individuals commenting on them -- making a model trained on the Wikipedia Talk corpus less relevant.\n",
    "\n",
    "## Which, if any, of these demo applications would you expect the Perspective API to perform poorly in? Why?\n",
    "\n",
    "The \"Hot Topics\" is the demo application I would expect the Perspective API to perform the worst in. Topics which appear in the Wikipedia Talk corpus may greatly differ from other internet forums -- especially when applied to very domain-specific contexts. For example, on Reddit specific subreddits may utilize particularly technical language which is poorly identified as a topic by \"Hot Topcs\" if trained on only the Wikipedia Talk corpus.\n",
    "\n",
    "\n",
    "## What are some other contexts or applications where you would expect the Perspective API to perform particularly well, or particularly poorly? Why?\n",
    "\n",
    "I think it would perform particularly poorly in judging the toxicity of news articles or large documents of text, since the training set sounds as if it mostly deals with forum posts. This scenario of the speech in a news article could differ vastly from the Wikipedia Talk corpus. I also suspect that it would perform poorly on dealing with racism, sexism or other forms of discrimination which may not appear explicit. This is because the training data from CrowdFlower are located all over the world and may not have familiarity with the different manners discrimination appears in language across the world.\n",
    "\n",
    "## What are some kinds of hostile speech that would be difficult to accurately detect using the approach used to train the Perspective API models? \n",
    "\n",
    "I used the demo API a bit, and  the API appears to lack the ability to catch toxicity which is contextual. For example, speech supporting white supremacist groups is not registered as toxic. Strongly worded language by race is often not caught either. \n",
    "\n",
    "Maybe these have slipped through because the folks who have labelled the datasets were unaware or did not understand the toxicity of these statements or ideas.\n",
    "\n",
    "## What are some potential unintended, negative consequences of using the Perspective API for any of these purposes? In your opinion, are these consequences likely or serious enough that you would recommend that the Perspective API not be used in these applications? Why or why not?\n",
    "\n",
    "The potential unintended consequences of using the Perspective API for any of these purposes is to: provide an \"overconfidence\" in an automated mechanism to identify toxicity (i.e.: missing toxic comments). Therefore, I would warn against relying heavily upon the tool. However, there could be potential for the tool to help capture low-hanging fruit with respect to toxicity if the users are well-trained to understand the faults and gaps of the model.\n",
    "\n",
    "Ultimately however, there needs to be heavy user intervention when consuming the output of the model to avoid the biases of the labellers and demographics of the Wikipedia Talk Corpus from providing adverse results.\n",
    "\n",
    "## Imagine you are one of the Google data scientists who maintains the Perspective API. If you wanted to improve the model or the API itself to make it work better for any of these purposes, how should they go about doing that?\n",
    "\n",
    "\n",
    "I would consider making the following changes:\n",
    "<ul>\n",
    "    <li>Verify the demographics of the workers who are labelling my data and improve their diversity, if possible.</li>\n",
    "    <li>Provide a detailed analysis of the potential gaps & flaws of the model and dataset in the documentation. Restrict and warn users against contexts where the model may work well, and may fail.</li>\n",
    "\n",
    "</ul>\n",
    "\n"
   ]
  }
 ],
 "metadata": {
  "kernelspec": {
   "display_name": "Python 3",
   "language": "python",
   "name": "python3"
  },
  "language_info": {
   "codemirror_mode": {
    "name": "ipython",
    "version": 3
   },
   "file_extension": ".py",
   "mimetype": "text/x-python",
   "name": "python",
   "nbconvert_exporter": "python",
   "pygments_lexer": "ipython3",
   "version": "3.7.4"
  }
 },
 "nbformat": 4,
 "nbformat_minor": 2
}
